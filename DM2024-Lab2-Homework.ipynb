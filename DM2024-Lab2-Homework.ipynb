{
 "cells": [
  {
   "attachments": {
    "d4e5c933-d486-47c0-9ee0-6cee23fe6d0b.png": {
     "image/png": "[encoded data removed]"
    }
   },
   "cell_type": "markdown",
   "metadata": {},
   "source": [
    "### Student Information\n",
    "Name:阮盈泓\n",
    "\n",
    "Student ID:112358024\n",
    "\n",
    "GitHub ID:harryjuan75\n",
    "\n",
    "Kaggle name:HJ_Oblivion\n",
    "\n",
    "Kaggle private scoreboard snapshot:![pic0.png](attachment:d4e5c933-d486-47c0-9ee0-6cee23fe6d0b.png)"
   ]
  },
  {
   "cell_type": "markdown",
   "metadata": {},
   "source": [
    "### Instructions"
   ]
  },
  {
   "cell_type": "markdown",
   "metadata": {},
   "source": [
    "1. First: __This part is worth 30% of your grade.__ Do the **take home exercises** in the [DM2024-Lab2-master Repo](https://github.com/didiersalazar/DM2024-Lab2-Master). You may need to copy some cells from the Lab notebook to this notebook. \n",
    "\n",
    "\n",
    "2. Second: __This part is worth 30% of your grade.__ Participate in the in-class [Kaggle Competition](https://www.kaggle.com/competitions/dm-2024-isa-5810-lab-2-homework) regarding Emotion Recognition on Twitter by this link: https://www.kaggle.com/competitions/dm-2024-isa-5810-lab-2-homework. The scoring will be given according to your place in the Private Leaderboard ranking: \n",
    "    - **Bottom 40%**: Get 20% of the 30% available for this section.\n",
    "\n",
    "    - **Top 41% - 100%**: Get (0.6N + 1 - x) / (0.6N) * 10 + 20 points, where N is the total number of participants, and x is your rank. (ie. If there are 100 participants and you rank 3rd your score will be (0.6 * 100 + 1 - 3) / (0.6 * 100) * 10 + 20 = 29.67% out of 30%.)   \n",
    "    Submit your last submission **BEFORE the deadline (Nov. 26th, 11:59 pm, Tuesday)**. Make sure to take a screenshot of your position at the end of the competition and store it as '''pic0.png''' under the **img** folder of this repository and rerun the cell **Student Information**.\n",
    "    \n",
    "\n",
    "3. Third: __This part is worth 30% of your grade.__ A report of your work developing the model for the competition (You can use code and comment on it). This report should include what your preprocessing steps, the feature engineering steps and an explanation of your model. You can also mention different things you tried and insights you gained. \n",
    "\n",
    "\n",
    "4. Fourth: __This part is worth 10% of your grade.__ It's hard for us to follow if your code is messy :'(, so please **tidy up your notebook**.\n",
    "\n",
    "\n",
    "Upload your files to your repository then submit the link to it on the corresponding e-learn assignment.\n",
    "\n",
    "Make sure to commit and save your changes to your repository __BEFORE the deadline (Nov. 26th, 11:59 pm, Tuesday)__. "
   ]
  },
  {
   "cell_type": "markdown",
   "metadata": {},
   "source": [
    "* Note: I did this all on kaggle, so i just download and supplement some work i've tried right here.<br>\n",
    "* In my presentation, i'll show the version with the highest prediciton,then i'll move on to the works that i tried but didn't get good result. \n",
    "* preprocess the data to a structured one\n"
   ]
  },
  {
   "cell_type": "code",
   "execution_count": 1,
   "metadata": {
    "_cell_guid": "b1076dfc-b9ad-4769-8c92-a6c4dae69d19",
    "_uuid": "8f2839f25d086af736a60e9eeb907d3b93b6e0e5",
    "execution": {
     "iopub.execute_input": "2024-11-29T08:52:28.815339Z",
     "iopub.status.busy": "2024-11-29T08:52:28.814890Z",
     "iopub.status.idle": "2024-11-29T08:52:29.827442Z",
     "shell.execute_reply": "2024-11-29T08:52:29.826348Z",
     "shell.execute_reply.started": "2024-11-29T08:52:28.815283Z"
    }
   },
   "outputs": [
    {
     "name": "stdout",
     "output_type": "stream",
     "text": [
      "/kaggle/input/dm-2024-isa-5810-lab-2-homework/tweets_DM.json\n",
      "/kaggle/input/dm-2024-isa-5810-lab-2-homework/sampleSubmission.csv\n",
      "/kaggle/input/dm-2024-isa-5810-lab-2-homework/data_identification.csv\n",
      "/kaggle/input/dm-2024-isa-5810-lab-2-homework/emotion.csv\n",
      "/kaggle/input/emotag/EmoTag1200-scores.csv\n"
     ]
    }
   ],
   "source": [
    "# This Python 3 environment comes with many helpful analytics libraries installed\n",
    "# It is defined by the kaggle/python Docker image: https://github.com/kaggle/docker-python\n",
    "# For example, here's several helpful packages to load\n",
    "\n",
    "import numpy as np # linear algebra\n",
    "import pandas as pd # data processing, CSV file I/O (e.g. pd.read_csv)\n",
    "\n",
    "# Input data files are available in the read-only \"../input/\" directory\n",
    "# For example, running this (by clicking run or pressing Shift+Enter) will list all files under the input directory\n",
    "\n",
    "import os\n",
    "for dirname, _, filenames in os.walk('/kaggle/input'):\n",
    "    for filename in filenames:\n",
    "        print(os.path.join(dirname, filename))\n",
    "\n",
    "# You can write up to 20GB to the current directory (/kaggle/working/) that gets preserved as output when you create a version using \"Save & Run All\" \n",
    "# You can also write temporary files to /kaggle/temp/, but they won't be saved outside of the current session"
   ]
  },
  {
   "cell_type": "code",
   "execution_count": 2,
   "metadata": {
    "execution": {
     "iopub.execute_input": "2024-11-29T08:52:29.829748Z",
     "iopub.status.busy": "2024-11-29T08:52:29.829270Z",
     "iopub.status.idle": "2024-11-29T08:52:32.915640Z",
     "shell.execute_reply": "2024-11-29T08:52:32.914825Z",
     "shell.execute_reply.started": "2024-11-29T08:52:29.829707Z"
    }
   },
   "outputs": [
    {
     "name": "stdout",
     "output_type": "stream",
     "text": [
      "   tweet_id identification\n",
      "0  0x28cc61           test\n",
      "1  0x29e452          train\n",
      "2  0x2b3819          train\n",
      "3  0x2db41f           test\n",
      "4  0x2a2acc          train\n",
      "   tweet_id       emotion\n",
      "0  0x3140b1       sadness\n",
      "1  0x368b73       disgust\n",
      "2  0x296183  anticipation\n",
      "3  0x2bd6e1           joy\n",
      "4  0x2ee1dd  anticipation\n",
      "         id   emotion\n",
      "0  0x2c7743  surprise\n",
      "1  0x2c1eed  surprise\n",
      "2  0x2826ea  surprise\n",
      "3  0x356d9a  surprise\n",
      "4  0x20fd95  surprise\n"
     ]
    }
   ],
   "source": [
    "# Load and display the CSV files\n",
    "sampleSubmission = pd.read_csv(os.path.join('/kaggle/input/dm-2024-isa-5810-lab-2-homework/', 'sampleSubmission.csv'))\n",
    "data_identification =  pd.read_csv(os.path.join('/kaggle/input/dm-2024-isa-5810-lab-2-homework/', 'data_identification.csv'))\n",
    "emotion =  pd.read_csv(os.path.join('/kaggle/input/dm-2024-isa-5810-lab-2-homework/', 'emotion.csv'))\n",
    "\n",
    "\n",
    "\n",
    "print(data_identification.head())\n",
    "print(emotion.head())\n",
    "print(sampleSubmission.head())"
   ]
  },
  {
   "cell_type": "code",
   "execution_count": 3,
   "metadata": {
    "execution": {
     "iopub.execute_input": "2024-11-29T08:52:32.916845Z",
     "iopub.status.busy": "2024-11-29T08:52:32.916579Z",
     "iopub.status.idle": "2024-11-29T08:52:56.347159Z",
     "shell.execute_reply": "2024-11-29T08:52:56.346141Z",
     "shell.execute_reply.started": "2024-11-29T08:52:32.916817Z"
    }
   },
   "outputs": [
    {
     "name": "stdout",
     "output_type": "stream",
     "text": [
      "   tweet_id                                               text  \\\n",
      "0  0x376b20  People who post \"add me on #Snapchat\" must be ...   \n",
      "1  0x2d5350  @brianklaas As we see, Trump is dangerous to #...   \n",
      "2  0x28b412  Confident of your obedience, I write to you, k...   \n",
      "3  0x1cd5b0                Now ISSA is stalking Tasha 😂😂😂 <LH>   \n",
      "4  0x2de201  \"Trust is not the same as faith. A friend is s...   \n",
      "\n",
      "                        hashtags  \n",
      "0                     [Snapchat]  \n",
      "1  [freepress, TrumpLegacy, CNN]  \n",
      "2                   [bibleverse]  \n",
      "3                             []  \n",
      "4                             []  \n"
     ]
    }
   ],
   "source": [
    "import pandas as pd\n",
    "import json\n",
    "\n",
    "# Define the file path\n",
    "file_path = '/kaggle/input/dm-2024-isa-5810-lab-2-homework/tweets_DM.json'\n",
    "\n",
    "# Read the NDJSON file line by line\n",
    "tweets = []\n",
    "with open(file_path, 'r') as file:\n",
    "    for line in file:\n",
    "        # Parse each line as JSON\n",
    "        tweet_data = json.loads(line.strip())\n",
    "        # Extract relevant fields from the nested structure\n",
    "        tweet = tweet_data['_source']['tweet']\n",
    "        tweets.append({\n",
    "            'tweet_id': tweet['tweet_id'],\n",
    "            'text': tweet['text'],\n",
    "            'hashtags': tweet['hashtags']\n",
    "        })\n",
    "\n",
    "# Convert to a DataFrame\n",
    "tweets_df = pd.DataFrame(tweets)\n",
    "\n",
    "# Display the first few rows\n",
    "print(tweets_df.head())\n",
    "\n"
   ]
  },
  {
   "cell_type": "code",
   "execution_count": 4,
   "metadata": {
    "execution": {
     "iopub.execute_input": "2024-11-29T08:52:56.349327Z",
     "iopub.status.busy": "2024-11-29T08:52:56.349004Z",
     "iopub.status.idle": "2024-11-29T08:52:58.681326Z",
     "shell.execute_reply": "2024-11-29T08:52:58.680323Z",
     "shell.execute_reply.started": "2024-11-29T08:52:56.349296Z"
    }
   },
   "outputs": [
    {
     "data": {
      "text/html": [
       "<div>\n",
       "<style scoped>\n",
       "    .dataframe tbody tr th:only-of-type {\n",
       "        vertical-align: middle;\n",
       "    }\n",
       "\n",
       "    .dataframe tbody tr th {\n",
       "        vertical-align: top;\n",
       "    }\n",
       "\n",
       "    .dataframe thead th {\n",
       "        text-align: right;\n",
       "    }\n",
       "</style>\n",
       "<table border=\"1\" class=\"dataframe\">\n",
       "  <thead>\n",
       "    <tr style=\"text-align: right;\">\n",
       "      <th></th>\n",
       "      <th>tweet_id</th>\n",
       "      <th>identification</th>\n",
       "      <th>emotion</th>\n",
       "    </tr>\n",
       "  </thead>\n",
       "  <tbody>\n",
       "    <tr>\n",
       "      <th>0</th>\n",
       "      <td>0x28cc61</td>\n",
       "      <td>test</td>\n",
       "      <td>NaN</td>\n",
       "    </tr>\n",
       "    <tr>\n",
       "      <th>1</th>\n",
       "      <td>0x29e452</td>\n",
       "      <td>train</td>\n",
       "      <td>joy</td>\n",
       "    </tr>\n",
       "    <tr>\n",
       "      <th>2</th>\n",
       "      <td>0x2b3819</td>\n",
       "      <td>train</td>\n",
       "      <td>joy</td>\n",
       "    </tr>\n",
       "    <tr>\n",
       "      <th>3</th>\n",
       "      <td>0x2db41f</td>\n",
       "      <td>test</td>\n",
       "      <td>NaN</td>\n",
       "    </tr>\n",
       "    <tr>\n",
       "      <th>4</th>\n",
       "      <td>0x2a2acc</td>\n",
       "      <td>train</td>\n",
       "      <td>trust</td>\n",
       "    </tr>\n",
       "    <tr>\n",
       "      <th>5</th>\n",
       "      <td>0x2a8830</td>\n",
       "      <td>train</td>\n",
       "      <td>joy</td>\n",
       "    </tr>\n",
       "    <tr>\n",
       "      <th>6</th>\n",
       "      <td>0x20b21d</td>\n",
       "      <td>train</td>\n",
       "      <td>anticipation</td>\n",
       "    </tr>\n",
       "    <tr>\n",
       "      <th>7</th>\n",
       "      <td>0x2452cf</td>\n",
       "      <td>train</td>\n",
       "      <td>anticipation</td>\n",
       "    </tr>\n",
       "    <tr>\n",
       "      <th>8</th>\n",
       "      <td>0x2d729d</td>\n",
       "      <td>train</td>\n",
       "      <td>anticipation</td>\n",
       "    </tr>\n",
       "    <tr>\n",
       "      <th>9</th>\n",
       "      <td>0x2ab56d</td>\n",
       "      <td>train</td>\n",
       "      <td>joy</td>\n",
       "    </tr>\n",
       "  </tbody>\n",
       "</table>\n",
       "</div>"
      ],
      "text/plain": [
       "   tweet_id identification       emotion\n",
       "0  0x28cc61           test           NaN\n",
       "1  0x29e452          train           joy\n",
       "2  0x2b3819          train           joy\n",
       "3  0x2db41f           test           NaN\n",
       "4  0x2a2acc          train         trust\n",
       "5  0x2a8830          train           joy\n",
       "6  0x20b21d          train  anticipation\n",
       "7  0x2452cf          train  anticipation\n",
       "8  0x2d729d          train  anticipation\n",
       "9  0x2ab56d          train           joy"
      ]
     },
     "execution_count": 4,
     "metadata": {},
     "output_type": "execute_result"
    }
   ],
   "source": [
    "# Merge the emotion labels with the dataset\n",
    "data = data_identification.merge(emotion, on='tweet_id', how='left')\n",
    "data.head(10)"
   ]
  },
  {
   "cell_type": "code",
   "execution_count": 5,
   "metadata": {
    "execution": {
     "iopub.execute_input": "2024-11-29T08:52:58.683109Z",
     "iopub.status.busy": "2024-11-29T08:52:58.682662Z",
     "iopub.status.idle": "2024-11-29T08:53:04.216925Z",
     "shell.execute_reply": "2024-11-29T08:53:04.216255Z",
     "shell.execute_reply.started": "2024-11-29T08:52:58.683040Z"
    }
   },
   "outputs": [],
   "source": [
    "# Separate train and test data\n",
    "train_data = data[data['identification'] == 'train']\n",
    "test_data = data[data['identification'] == 'test']\n",
    "\n",
    "train_data = train_data.merge(tweets_df, on='tweet_id')\n",
    "test_data = test_data.merge(tweets_df, on='tweet_id')\n"
   ]
  },
  {
   "cell_type": "markdown",
   "metadata": {},
   "source": [
    "### REAL WORK from here"
   ]
  },
  {
   "cell_type": "markdown",
   "metadata": {},
   "source": [
    "* the main concept of my idea is to transoform those emoji appeared in the context to words, ex.😊 will be transform to 'joy'.\n",
    "* so i take this reference：https://github.com/abushoeb/EmoTag , and try to transform emojis to scores, and covnert the socre to the most related emotion(WORD) so that the NLP model can betetr address it.\n",
    "* but the outcome didn't improve well (with this data support) and then i try to directly transoform emoji to emotions(word description) in the context.\n",
    "    "
   ]
  },
  {
   "cell_type": "code",
   "execution_count": 6,
   "metadata": {
    "execution": {
     "iopub.execute_input": "2024-11-29T08:53:04.218113Z",
     "iopub.status.busy": "2024-11-29T08:53:04.217839Z",
     "iopub.status.idle": "2024-11-29T08:53:04.235425Z",
     "shell.execute_reply": "2024-11-29T08:53:04.234681Z",
     "shell.execute_reply.started": "2024-11-29T08:53:04.218072Z"
    }
   },
   "outputs": [
    {
     "name": "stdout",
     "output_type": "stream",
     "text": [
      "  unicode emoji           name  anger  anticipation  disgust  fear   joy  \\\n",
      "0   1F308     🌈        rainbow   0.00          0.28     0.00  0.00  0.69   \n",
      "1   1F319     🌙  crescent moon   0.00          0.31     0.00  0.00  0.25   \n",
      "2   1F31A     🌚  new moon face   0.06          0.08     0.17  0.06  0.42   \n",
      "3   1F31E     🌞  sun with face   0.00          0.22     0.00  0.00  0.78   \n",
      "4   1F31F     🌟   glowing star   0.00          0.28     0.00  0.00  0.53   \n",
      "\n",
      "   sadness  surprise  trust  \n",
      "0     0.06      0.22   0.33  \n",
      "1     0.00      0.06   0.25  \n",
      "2     0.19      0.06   0.11  \n",
      "3     0.00      0.11   0.22  \n",
      "4     0.00      0.25   0.31  \n"
     ]
    }
   ],
   "source": [
    "import pandas as pd\n",
    "\n",
    "#Import emoji-related data pair with corresponding emotion(word)\n",
    "emotag_data = pd.read_csv('/kaggle/input/emotag/EmoTag1200-scores.csv') \n",
    "\n",
    "\n",
    "print(emotag_data.head())\n",
    "\n"
   ]
  },
  {
   "cell_type": "markdown",
   "metadata": {},
   "source": [
    "* from the above, we expect that emotion columns with scores will be appended to the test data, and this part is only to address the emoji.\n",
    "* Below i started to clean tweeter context, including dealing with stopwords, and meaningless characters like <LH>, which often show up in the context but i don't think it's gonna do help to my work.There're also other works illustrated in the code."
   ]
  },
  {
   "cell_type": "code",
   "execution_count": 7,
   "metadata": {
    "execution": {
     "iopub.execute_input": "2024-11-29T08:53:04.236510Z",
     "iopub.status.busy": "2024-11-29T08:53:04.236277Z",
     "iopub.status.idle": "2024-11-29T08:53:08.231424Z",
     "shell.execute_reply": "2024-11-29T08:53:08.230544Z",
     "shell.execute_reply.started": "2024-11-29T08:53:04.236485Z"
    }
   },
   "outputs": [
    {
     "name": "stdout",
     "output_type": "stream",
     "text": [
      "[nltk_data] Downloading package stopwords to\n",
      "[nltk_data]     /kaggle/working/nltk_data...\n",
      "[nltk_data]   Unzipping corpora/stopwords.zip.\n",
      "[nltk_data] Downloading package wordnet to\n",
      "[nltk_data]     /kaggle/working/nltk_data...\n",
      "[nltk_data] Downloading package omw-1.4 to\n",
      "[nltk_data]     /kaggle/working/nltk_data...\n",
      "wordnet 解壓縮完成\n",
      "omw-1.4 解壓縮完成\n",
      "[Synset('run.n.01'), Synset('test.n.05'), Synset('footrace.n.01'), Synset('streak.n.01'), Synset('run.n.05'), Synset('run.n.06'), Synset('run.n.07'), Synset('run.n.08'), Synset('run.n.09'), Synset('run.n.10'), Synset('rivulet.n.01'), Synset('political_campaign.n.01'), Synset('run.n.13'), Synset('discharge.n.06'), Synset('run.n.15'), Synset('run.n.16'), Synset('run.v.01'), Synset('scat.v.01'), Synset('run.v.03'), Synset('operate.v.01'), Synset('run.v.05'), Synset('run.v.06'), Synset('function.v.01'), Synset('range.v.01'), Synset('campaign.v.01'), Synset('play.v.18'), Synset('run.v.11'), Synset('tend.v.01'), Synset('run.v.13'), Synset('run.v.14'), Synset('run.v.15'), Synset('run.v.16'), Synset('prevail.v.03'), Synset('run.v.18'), Synset('run.v.19'), Synset('carry.v.15'), Synset('run.v.21'), Synset('guide.v.05'), Synset('run.v.23'), Synset('run.v.24'), Synset('run.v.25'), Synset('run.v.26'), Synset('run.v.27'), Synset('run.v.28'), Synset('run.v.29'), Synset('run.v.30'), Synset('run.v.31'), Synset('run.v.32'), Synset('run.v.33'), Synset('run.v.34'), Synset('ply.v.03'), Synset('hunt.v.01'), Synset('race.v.02'), Synset('move.v.13'), Synset('melt.v.01'), Synset('ladder.v.01'), Synset('run.v.41')]\n"
     ]
    }
   ],
   "source": [
    "\n",
    "import os\n",
    "import nltk\n",
    "import zipfile\n",
    "\n",
    "# Set up NLTK data path\n",
    "nltk_data_path = '/kaggle/working/nltk_data'\n",
    "nltk.data.path.append(nltk_data_path)\n",
    "\n",
    "# Build necessary content \n",
    "os.makedirs(os.path.join(nltk_data_path, 'corpora'), exist_ok=True)\n",
    "\n",
    "# Download NLTK resources\n",
    "nltk.download('stopwords', download_dir=nltk_data_path)\n",
    "nltk.download('wordnet', download_dir=nltk_data_path)\n",
    "nltk.download('omw-1.4', download_dir=nltk_data_path)\n",
    "\n",
    "# Upzip resources\n",
    "for resource in ['wordnet', 'omw-1.4']:\n",
    "    zip_path = os.path.join(nltk_data_path, 'corpora', f\"{resource}.zip\")\n",
    "    if os.path.exists(zip_path):\n",
    "        with zipfile.ZipFile(zip_path, 'r') as zip_ref:\n",
    "            zip_ref.extractall(os.path.join(nltk_data_path, 'corpora'))\n",
    "            print(f\"{resource} 解壓縮完成\")\n",
    "\n",
    "# Test part\n",
    "from nltk.corpus import wordnet\n",
    "print(wordnet.synsets(\"run\")) \n",
    "\n"
   ]
  },
  {
   "cell_type": "code",
   "execution_count": 8,
   "metadata": {
    "execution": {
     "iopub.execute_input": "2024-11-29T08:53:08.232948Z",
     "iopub.status.busy": "2024-11-29T08:53:08.232570Z",
     "iopub.status.idle": "2024-11-29T08:53:08.238001Z",
     "shell.execute_reply": "2024-11-29T08:53:08.237118Z",
     "shell.execute_reply.started": "2024-11-29T08:53:08.232919Z"
    }
   },
   "outputs": [
    {
     "name": "stdout",
     "output_type": "stream",
     "text": [
      "WordNet resource exists: ['wordnet.zip', 'stopwords', 'stopwords.zip', 'omw-1.4', 'wordnet', 'omw-1.4.zip']\n"
     ]
    }
   ],
   "source": [
    "import os\n",
    "\n",
    "wordnet_path = '/kaggle/working/nltk_data/corpora'\n",
    "if os.path.exists(wordnet_path):\n",
    "    print(\"WordNet resource exists:\", os.listdir(wordnet_path))\n",
    "else:\n",
    "    print(\"WordNet resource is missing.\")"
   ]
  },
  {
   "cell_type": "code",
   "execution_count": 9,
   "metadata": {
    "execution": {
     "iopub.execute_input": "2024-11-29T08:53:08.239464Z",
     "iopub.status.busy": "2024-11-29T08:53:08.239199Z",
     "iopub.status.idle": "2024-11-29T08:53:18.141112Z",
     "shell.execute_reply": "2024-11-29T08:53:18.140277Z",
     "shell.execute_reply.started": "2024-11-29T08:53:08.239428Z"
    }
   },
   "outputs": [
    {
     "name": "stdout",
     "output_type": "stream",
     "text": [
      "Collecting contractions\n",
      "  Downloading contractions-0.1.73-py2.py3-none-any.whl.metadata (1.2 kB)\n",
      "Collecting textsearch>=0.0.21 (from contractions)\n",
      "  Downloading textsearch-0.0.24-py2.py3-none-any.whl.metadata (1.2 kB)\n",
      "Collecting anyascii (from textsearch>=0.0.21->contractions)\n",
      "  Downloading anyascii-0.3.2-py3-none-any.whl.metadata (1.5 kB)\n",
      "Collecting pyahocorasick (from textsearch>=0.0.21->contractions)\n",
      "  Downloading pyahocorasick-2.1.0-cp310-cp310-manylinux_2_5_x86_64.manylinux1_x86_64.manylinux_2_12_x86_64.manylinux2010_x86_64.whl.metadata (13 kB)\n",
      "Downloading contractions-0.1.73-py2.py3-none-any.whl (8.7 kB)\n",
      "Downloading textsearch-0.0.24-py2.py3-none-any.whl (7.6 kB)\n",
      "Downloading anyascii-0.3.2-py3-none-any.whl (289 kB)\n",
      "\u001b[2K   \u001b[90m━━━━━━━━━━━━━━━━━━━━━━━━━━━━━━━━━━━━━━━━\u001b[0m \u001b[32m289.9/289.9 kB\u001b[0m \u001b[31m5.7 MB/s\u001b[0m eta \u001b[36m0:00:00\u001b[0m00:01\u001b[0m\n",
      "\u001b[?25hDownloading pyahocorasick-2.1.0-cp310-cp310-manylinux_2_5_x86_64.manylinux1_x86_64.manylinux_2_12_x86_64.manylinux2010_x86_64.whl (110 kB)\n",
      "\u001b[2K   \u001b[90m━━━━━━━━━━━━━━━━━━━━━━━━━━━━━━━━━━━━━━━━\u001b[0m \u001b[32m110.7/110.7 kB\u001b[0m \u001b[31m6.6 MB/s\u001b[0m eta \u001b[36m0:00:00\u001b[0m\n",
      "\u001b[?25hInstalling collected packages: pyahocorasick, anyascii, textsearch, contractions\n",
      "Successfully installed anyascii-0.3.2 contractions-0.1.73 pyahocorasick-2.1.0 textsearch-0.0.24\n"
     ]
    }
   ],
   "source": [
    "!pip install contractions"
   ]
  },
  {
   "cell_type": "code",
   "execution_count": 19,
   "metadata": {
    "execution": {
     "iopub.execute_input": "2024-11-29T09:17:18.424601Z",
     "iopub.status.busy": "2024-11-29T09:17:18.424241Z",
     "iopub.status.idle": "2024-11-29T09:17:46.858628Z",
     "shell.execute_reply": "2024-11-29T09:17:46.857775Z",
     "shell.execute_reply.started": "2024-11-29T09:17:18.424568Z"
    }
   },
   "outputs": [
    {
     "name": "stdout",
     "output_type": "stream",
     "text": [
      "[nltk_data] Downloading package stopwords to /usr/share/nltk_data...\n",
      "[nltk_data]   Package stopwords is already up-to-date!\n",
      "[nltk_data] Downloading package wordnet to /usr/share/nltk_data...\n",
      "[nltk_data]   Package wordnet is already up-to-date!\n",
      "                                                                                                                                           text  \\\n",
      "0  Huge Respect🖒 @JohnnyVegasReal talking about losing his dad to cancer.\"if you dont remember the good times it was all for nothing\"#beautiful   \n",
      "1                                                       Yoooo we hit all our monthly goals with the new app in two weeks. #spateradio #app <LH>   \n",
      "2                                                             @KIDSNTS @PICU_BCH @uhbcomms @BWCHBoss Well done team 🌟 <LH> of every one of you.   \n",
      "3          Come join @ambushman27 on #PUBG while he strives for chicken donners! #GamersUnite #twitch #BeHealthy #StayPositive #vegan <LH> <LH>   \n",
      "4   @fanshixieen2014 Blessings!My #strength little. My #bones brittle.Door is open.#Praise #God. I won't go on nod. Philadelphia Church Rev.3:8   \n",
      "\n",
      "                                                                                                                                     clean_text  \n",
      "0  Huge Respect🖒 @JohnnyVegasReal talking about losing his dad to cancer.\"if you dont remember the good times it was all for nothing\"#beautiful  \n",
      "1                                                       Yoooo we hit all our monthly goals with the new app in two weeks. #spateradio #app <LH>  \n",
      "2                                                       @KIDSNTS @PICU_BCH @uhbcomms @BWCHBoss Well done team <ANGER> <LH> of every one of you.  \n",
      "3          Come join @ambushman27 on #PUBG while he strives for chicken donners! #GamersUnite #twitch #BeHealthy #StayPositive #vegan <LH> <LH>  \n",
      "4   @fanshixieen2014 Blessings!My #strength little. My #bones brittle.Door is open.#Praise #God. I won't go on nod. Philadelphia Church Rev.3:8  \n"
     ]
    }
   ],
   "source": [
    "import nltk\n",
    "import pandas as pd\n",
    "import re\n",
    "from nltk.corpus import stopwords\n",
    "from nltk.stem import WordNetLemmatizer\n",
    "import contractions\n",
    "\n",
    "# Initialize tools\n",
    "nltk.download('stopwords')\n",
    "nltk.download('wordnet')\n",
    "lemmatizer = WordNetLemmatizer()\n",
    "stop_words = set(stopwords.words('english'))\n",
    "\n",
    "# Do mapping here\n",
    "emoji_sentiment_mapping = emotag_data.set_index('emoji')[['anger', 'anticipation', 'disgust', 'fear', 'joy', 'sadness', 'surprise', 'trust']].to_dict(orient='index')\n",
    "\n",
    "# clean text content\n",
    "def clean_text(text):\n",
    "    text = contractions.fix(text)  # Expand contractions\n",
    "    text = re.sub(r'@\\w+', '<user>', text)  # Replace mentions\n",
    "    text = re.sub(r'http\\S+|www\\.\\S+', '', text)  # Remove URLs\n",
    "    text = re.sub(r'#(\\w+)', lambda m: ' '.join(re.findall(r'[A-Z]?[a-z]+|[A-Z]+(?![a-z])', m.group(1))), text)  # Split hashtags\n",
    "    text = re.sub(r'<LH>', '', text)  # Remove <LH>\n",
    "    text = re.sub(r'\\b(19|20)\\d{2}\\b', '<YEAR>', text)  # Replace years with <YEAR>\n",
    "    text = re.sub(r'\\d+', '<NUM>', text)  # Replace other numbers with <NUM>\n",
    "    text = ''.join([emoji_sentiment_mapping.get(char, {'joy': '', 'trust': ''}) and char for char in text])  # Replace emojis\n",
    "    text = re.sub(r'[^\\w\\s]', ' ', text)  # Remove non-alphanumeric characters while keeping spaces\n",
    "    text = re.sub(r'\\s+', ' ', text).strip()  # Handle extra spaces\n",
    "    text = text.lower()  # Convert to lowercase\n",
    "    words = [lemmatizer.lemmatize(word, pos='v') for word in text.split() if word not in stop_words]  # Remove stop words & lemmatize\n",
    "    return ' '.join(words)\n",
    "\n",
    "# Calculate emoji sentiment scores and replace emojis with labels\n",
    "def calculate_and_replace_emojis(text):\n",
    "    emotion_totals = {emotion: 0 for emotion in emoji_sentiment_mapping[list(emoji_sentiment_mapping.keys())[0]].keys()}\n",
    "    clean_text = []\n",
    "    for char in text:\n",
    "        if char in emoji_sentiment_mapping:\n",
    "            # Accumulate emotion scores\n",
    "            for emotion, value in emoji_sentiment_mapping[char].items():\n",
    "                emotion_totals[emotion] += value\n",
    "            # Replace emoji with emotion label\n",
    "            clean_text.append(f\"<{list(emoji_sentiment_mapping[char].keys())[0].upper()}>\")\n",
    "        else:\n",
    "            clean_text.append(char)\n",
    "    return ''.join(clean_text), emotion_totals\n",
    "\n",
    "# Data preprocessing function, applying cleaning to the dataset\n",
    "def preprocess_dataset(dataset, text_column):\n",
    "    clean_texts = []\n",
    "    emotion_scores_list = []\n",
    "\n",
    "    for text in dataset[text_column]:\n",
    "        cleaned_text, emotion_scores = calculate_and_replace_emojis(text)\n",
    "        clean_texts.append(cleaned_text)\n",
    "        emotion_scores_list.append(emotion_scores)\n",
    "\n",
    "    dataset['clean_text'] = clean_texts  # Cleaned text (includes emotion labels)\n",
    "    for emotion in emotion_scores_list[0].keys():\n",
    "        dataset[emotion] = [scores[emotion] for scores in emotion_scores_list]  # Save each emotion score as a column\n",
    "\n",
    "    return dataset\n",
    "\n",
    "# To see result\n",
    "train_data = preprocess_dataset(train_data, 'text')\n",
    "test_data = preprocess_dataset(test_data, 'text')\n",
    "\n",
    "print(train_data[['text', 'clean_text']].head())"
   ]
  },
  {
   "cell_type": "code",
   "execution_count": 20,
   "metadata": {
    "execution": {
     "iopub.execute_input": "2024-11-29T09:17:46.861333Z",
     "iopub.status.busy": "2024-11-29T09:17:46.860677Z",
     "iopub.status.idle": "2024-11-29T09:17:47.050642Z",
     "shell.execute_reply": "2024-11-29T09:17:47.049587Z",
     "shell.execute_reply.started": "2024-11-29T09:17:46.861283Z"
    }
   },
   "outputs": [
    {
     "name": "stdout",
     "output_type": "stream",
     "text": [
      "                                                                                                                                            text  \\\n",
      "0   Huge Respect🖒 @JohnnyVegasReal talking about losing his dad to cancer.\"if you dont remember the good times it was all for nothing\"#beautiful   \n",
      "1                                                        Yoooo we hit all our monthly goals with the new app in two weeks. #spateradio #app <LH>   \n",
      "2                                                              @KIDSNTS @PICU_BCH @uhbcomms @BWCHBoss Well done team 🌟 <LH> of every one of you.   \n",
      "3           Come join @ambushman27 on #PUBG while he strives for chicken donners! #GamersUnite #twitch #BeHealthy #StayPositive #vegan <LH> <LH>   \n",
      "4    @fanshixieen2014 Blessings!My #strength little. My #bones brittle.Door is open.#Praise #God. I won't go on nod. Philadelphia Church Rev.3:8   \n",
      "5                                                      Never give up. The manifestation of your goal comes through faith. #MondayMotivation <LH>   \n",
      "6                                                                                        I Believe When No One Else Does... <LH> #DreamsComeTrue   \n",
      "7     @SirPareshRawal with due respect... Do u have any sympathies for the people of Rohingya being killed without any crime? #JustAsking #Love🙏   \n",
      "8                                                       I can't tell if I'm alive or in the after life after that document submission #help <LH>   \n",
      "9                                                                                                                #GRATEFUL!!  WORLD GOODMORNING!   \n",
      "10                                                                                              @happinessplannr #LoveIsLove <LH> this!! 👩‍❤️‍👩👭   \n",
      "11                                                                                                    Watching Santa Claus with my parents❤ <LH>   \n",
      "12                                                             Encounters with the <LH> of God will change your life... It's ok to Love again...   \n",
      "13   95° or higher 17 out of the last 19 days, no rain for 19 days, 96° heat index today and the crew says\"it's not too bad out here today\" <LH>   \n",
      "14                 #Congratulations to all our #Graduates from @StOswaldsPriLiv   From <LH> #learningisfun <LH> #primary #Liverpool #aspire <LH>   \n",
      "15                                                                                                                 Hustle Season Has Return <LH>   \n",
      "16     3nights out this weekend has ruined me. Twisted my knee N producing what can ony be described asa squeak from my voice #novoiceatall <LH>   \n",
      "17                                      And sometimes, #washingtondc is pleasant, <LH> and bearable @capitalweather #bikedc @WABADC #ThisMorning   \n",
      "18                                                      It's #NationalTequilaDay and I won't be sipping on Margaritas at @MargsMex tonight. <LH>   \n",
      "19                                                      Aren't we all <LH> that our parents never had the technology to find Erotic City lyrics?   \n",
      "\n",
      "                                                                                                                                          clean_text  \n",
      "0       Huge Respect🖒 @JohnnyVegasReal talking about losing his dad to cancer.\"if you dont remember the good times it was all for nothing\"#beautiful  \n",
      "1                                                            Yoooo we hit all our monthly goals with the new app in two weeks. #spateradio #app <LH>  \n",
      "2                                                            @KIDSNTS @PICU_BCH @uhbcomms @BWCHBoss Well done team <ANGER> <LH> of every one of you.  \n",
      "3               Come join @ambushman27 on #PUBG while he strives for chicken donners! #GamersUnite #twitch #BeHealthy #StayPositive #vegan <LH> <LH>  \n",
      "4        @fanshixieen2014 Blessings!My #strength little. My #bones brittle.Door is open.#Praise #God. I won't go on nod. Philadelphia Church Rev.3:8  \n",
      "5                                                          Never give up. The manifestation of your goal comes through faith. #MondayMotivation <LH>  \n",
      "6                                                                                            I Believe When No One Else Does... <LH> #DreamsComeTrue  \n",
      "7   @SirPareshRawal with due respect... Do u have any sympathies for the people of Rohingya being killed without any crime? #JustAsking #Love<ANGER>  \n",
      "8                                                           I can't tell if I'm alive or in the after life after that document submission #help <LH>  \n",
      "9                                                                                                                    #GRATEFUL!!  WORLD GOODMORNING!  \n",
      "10                                                                                            @happinessplannr #LoveIsLove <LH> this!! 👩‍<ANGER>️‍👩👭  \n",
      "11                                                                                                  Watching Santa Claus with my parents<ANGER> <LH>  \n",
      "12                                                                 Encounters with the <LH> of God will change your life... It's ok to Love again...  \n",
      "13       95° or higher 17 out of the last 19 days, no rain for 19 days, 96° heat index today and the crew says\"it's not too bad out here today\" <LH>  \n",
      "14                     #Congratulations to all our #Graduates from @StOswaldsPriLiv   From <LH> #learningisfun <LH> #primary #Liverpool #aspire <LH>  \n",
      "15                                                                                                                     Hustle Season Has Return <LH>  \n",
      "16         3nights out this weekend has ruined me. Twisted my knee N producing what can ony be described asa squeak from my voice #novoiceatall <LH>  \n",
      "17                                          And sometimes, #washingtondc is pleasant, <LH> and bearable @capitalweather #bikedc @WABADC #ThisMorning  \n",
      "18                                                          It's #NationalTequilaDay and I won't be sipping on Margaritas at @MargsMex tonight. <LH>  \n",
      "19                                                          Aren't we all <LH> that our parents never had the technology to find Erotic City lyrics?  \n"
     ]
    }
   ],
   "source": [
    "# Adjust pandas display options\n",
    "pd.set_option('display.max_colwidth', None)  # Show the full content of each column\n",
    "pd.set_option('display.max_rows', 100)      # Adjust to show more rows if needed\n",
    "pd.set_option('display.max_columns', None)  # Ensure all columns are displayed\n",
    "\n",
    "# Display the specified columns/ so that i can inspect whcih part of characters i should address more\n",
    "print(train_data[['text', 'clean_text']].head(20))  # Correct syntax for selecting multiple columns\n"
   ]
  },
  {
   "cell_type": "markdown",
   "metadata": {},
   "source": [
    "* Here is the DNN model construction, I firstly convert words in the text (clean_text) into numerical tokens and then Converts tokenized text into <br>sequences of fixed length.Secondly, convert text labels (emotion categories) into numerical values.(e.g., \"sad\" → 0, \"anger\" → 1...).<br>"
   ]
  },
  {
   "cell_type": "code",
   "execution_count": 21,
   "metadata": {
    "execution": {
     "iopub.execute_input": "2024-11-29T09:17:47.052316Z",
     "iopub.status.busy": "2024-11-29T09:17:47.051988Z",
     "iopub.status.idle": "2024-11-29T09:53:36.252930Z",
     "shell.execute_reply": "2024-11-29T09:53:36.252013Z",
     "shell.execute_reply.started": "2024-11-29T09:17:47.052283Z"
    }
   },
   "outputs": [
    {
     "name": "stderr",
     "output_type": "stream",
     "text": [
      "/opt/conda/lib/python3.10/site-packages/keras/src/layers/core/embedding.py:90: UserWarning: Argument `input_length` is deprecated. Just remove it.\n",
      "  warnings.warn(\n"
     ]
    },
    {
     "name": "stdout",
     "output_type": "stream",
     "text": [
      "Epoch 1/4\n",
      "\u001b[1m18195/18195\u001b[0m \u001b[32m━━━━━━━━━━━━━━━━━━━━\u001b[0m\u001b[37m\u001b[0m \u001b[1m494s\u001b[0m 27ms/step - accuracy: 0.5169 - loss: 1.3561 - val_accuracy: 0.5896 - val_loss: 1.1362 - learning_rate: 0.0010\n",
      "Epoch 2/4\n",
      "\u001b[1m18195/18195\u001b[0m \u001b[32m━━━━━━━━━━━━━━━━━━━━\u001b[0m\u001b[37m\u001b[0m \u001b[1m496s\u001b[0m 27ms/step - accuracy: 0.6056 - loss: 1.1029 - val_accuracy: 0.6048 - val_loss: 1.0977 - learning_rate: 0.0010\n",
      "Epoch 3/4\n",
      "\u001b[1m18195/18195\u001b[0m \u001b[32m━━━━━━━━━━━━━━━━━━━━\u001b[0m\u001b[37m\u001b[0m \u001b[1m498s\u001b[0m 27ms/step - accuracy: 0.6337 - loss: 1.0258 - val_accuracy: 0.6086 - val_loss: 1.0965 - learning_rate: 0.0010\n",
      "Epoch 4/4\n",
      "\u001b[1m18195/18195\u001b[0m \u001b[32m━━━━━━━━━━━━━━━━━━━━\u001b[0m\u001b[37m\u001b[0m \u001b[1m497s\u001b[0m 27ms/step - accuracy: 0.6550 - loss: 0.9671 - val_accuracy: 0.6047 - val_loss: 1.1029 - learning_rate: 0.0010\n",
      "\u001b[1m12875/12875\u001b[0m \u001b[32m━━━━━━━━━━━━━━━━━━━━\u001b[0m\u001b[37m\u001b[0m \u001b[1m96s\u001b[0m 7ms/step\n",
      "                                                                                                                                        clean_text  \\\n",
      "0                                                                @Habbo I've seen two separate colours of the elegant furni on your homepage? <LH>   \n",
      "1                                              @FoxNews @KellyannePolls No serious self respecting individual believes much less agrees w her <LH>   \n",
      "2                             Looking for a new car, and it says 1 lady owner. That means needs new clutch, gearbox and brakes. #womendrivers <LH>   \n",
      "3                                        @cineworld “only the brave” just out and fountain park have only 3 showings per day! <LH> #robbingmembers   \n",
      "4  Felt like total dog <ANGER> going into open gym and had a migraine Played through and sweated it out and my sweat has never been that bad. <LH>   \n",
      "\n",
      "  predicted_emotion  \n",
      "0               joy  \n",
      "1           sadness  \n",
      "2               joy  \n",
      "3           sadness  \n",
      "4           disgust  \n"
     ]
    }
   ],
   "source": [
    "from tensorflow.keras.preprocessing.text import Tokenizer\n",
    "from tensorflow.keras.preprocessing.sequence import pad_sequences\n",
    "from tensorflow.keras.models import Sequential\n",
    "from tensorflow.keras.layers import Embedding, LSTM, Dense, Dropout, Bidirectional, BatchNormalization\n",
    "from tensorflow.keras.callbacks import EarlyStopping, ReduceLROnPlateau\n",
    "from sklearn.preprocessing import LabelEncoder\n",
    "import numpy as np\n",
    "import tensorflow as tf\n",
    "\n",
    "# Using GPU\n",
    "if not tf.config.list_physical_devices('GPU'):\n",
    "    raise SystemError('GPU device not found. Please ensure that GPU is available and TensorFlow is configured to use it.')\n",
    "\n",
    "\n",
    "# Use `clean_text` to replace the original text for model training\n",
    "# Set parameters\n",
    "vocab_size = 35000  # Reduce vocabulary size\n",
    "max_len = 128       # Reduce sequence length to lower memory usage\n",
    "embedding_dim = 64  # Increase embedding dimension to enhance representation ability\n",
    "lstm_units = 64     # Increase the number of LSTM units to improve learning capacity\n",
    "\n",
    "# Text vectorization (based on `clean_text`)\n",
    "tokenizer = Tokenizer(num_words=vocab_size)\n",
    "tokenizer.fit_on_texts(train_data['clean_text'])\n",
    "X_train = pad_sequences(tokenizer.texts_to_sequences(train_data['clean_text']), maxlen=max_len)\n",
    "X_test = pad_sequences(tokenizer.texts_to_sequences(test_data['clean_text']), maxlen=max_len)\n",
    "\n",
    "# Label encoding\n",
    "label_encoder = LabelEncoder()\n",
    "y_train = label_encoder.fit_transform(train_data['emotion'])\n",
    "\n",
    "# Build the LSTM model\n",
    "model = Sequential()\n",
    "# Converts numerical word indices into dense vectors of fixed size\n",
    "model.add(Embedding(input_dim=vocab_size, output_dim=embedding_dim, input_length=max_len))\n",
    "# 1st layer ias to processes the input text in both forward and backward directions, improving context understanding\n",
    "model.add(Bidirectional(LSTM(lstm_units, return_sequences=True)))  # Use Bidirectional LSTM to enhance feature learning\n",
    "\n",
    "model.add(BatchNormalization())\n",
    "model.add(Dropout(0.3))\n",
    "# 2nd layer is to processes the output of the first LSTM layer to learn additional temporal features.\n",
    "model.add(LSTM(lstm_units))  # Add a second LSTM layer to increase model complexity\n",
    "model.add(BatchNormalization())# Normalizes layer outputs to accelerate the process\n",
    "model.add(Dropout(0.3))\n",
    "model.add(Dense(len(label_encoder.classes_), activation='softmax'))# Outputs probabilities for each emotion category using the softmax activation function.\n",
    "model.compile(optimizer='adam', loss='sparse_categorical_crossentropy', metrics=['accuracy'])# Adam(optimizer is used for efficient gradient updates),using accuracy as metricss(which i dont think objeacitve enough, i should have done more\n",
    "\n",
    "# Train the model with callbacks\n",
    "early_stopping = EarlyStopping(monitor='val_loss', patience=3, restore_best_weights=True)#  Stops training if validation loss doesn’t improve for 3 consecutive epochs.\n",
    "reduce_lr = ReduceLROnPlateau(monitor='val_loss', factor=0.5, patience=2, min_lr=1e-5)  # Dynamically reduce learning rate\n",
    "# Note:Prediction: \n",
    "# The model generates probabilities for each emotion category for each test sample.\n",
    "# Then the category with the highest probability is selected as the prediction.\n",
    "with tf.device('/GPU:0'):\n",
    "    model.fit(\n",
    "        X_train, y_train, \n",
    "        epochs=4,  # Increase epochs to allow more learning opportunities for the model\n",
    "        batch_size=64,  # Increase batch_size to fully utilize GPU capabilities\n",
    "        validation_split=0.2, \n",
    "        callbacks=[early_stopping, reduce_lr]\n",
    "    )\n",
    "\n",
    "# Predict emotions\n",
    "with tf.device('/GPU:0'):\n",
    "    y_pred_probs = model.predict(X_test)\n",
    "    y_pred_encoded = np.argmax(y_pred_probs, axis=1)\n",
    "    y_pred = label_encoder.inverse_transform(y_pred_encoded)\n",
    "\n",
    "# See results\n",
    "test_data['predicted_emotion'] = y_pred\n",
    "print(test_data[['clean_text', 'predicted_emotion']].head())\n"
   ]
  },
  {
   "cell_type": "code",
   "execution_count": 22,
   "metadata": {
    "execution": {
     "iopub.execute_input": "2024-11-29T09:53:36.254717Z",
     "iopub.status.busy": "2024-11-29T09:53:36.254421Z",
     "iopub.status.idle": "2024-11-29T09:53:36.702936Z",
     "shell.execute_reply": "2024-11-29T09:53:36.702027Z",
     "shell.execute_reply.started": "2024-11-29T09:53:36.254688Z"
    }
   },
   "outputs": [
    {
     "name": "stdout",
     "output_type": "stream",
     "text": [
      "Predictions saved to Kaggle working directory: '/kaggle/working/predicted_emotions_svm.csv' with columns renamed to 'id' and 'emotion'.\n"
     ]
    }
   ],
   "source": [
    "# Save predictions to a CSV file \n",
    "test_data['predicted_emotion'] = y_pred\n",
    "output_data = test_data[['tweet_id', 'predicted_emotion']].rename(columns={'tweet_id': 'id', 'predicted_emotion': 'emotion'})#trim the column to our submission format\n",
    "output_filename = '/kaggle/working/predicted_emotions_svm.csv'  # Save to Kaggle's working directory\n",
    "output_data.to_csv(output_filename, index=False)\n",
    "print(f\"Predictions saved to Kaggle working directory: '{output_filename}' with columns renamed to 'id' and 'emotion'.\")"
   ]
  },
  {
   "cell_type": "code",
   "execution_count": null,
   "metadata": {},
   "outputs": [],
   "source": [
    "output_data.head(20) #just for double check the format."
   ]
  },
  {
   "cell_type": "markdown",
   "metadata": {},
   "source": [
    "* the following are parts that i've tried relly hard (whether the embedding model, or trianing model), it just won't go.\n",
    "* I know it seems more reasonalbe to use BERT type model to embedding and traing the data but in my case, but i was restricted to the hardware i've got, so the process takes me too long and i found out that methods took you so long doesn't really mean the outcome is going to be better, that's a hard lesoon i've learn the most in this Lab, but let's move on.\n",
    "* try to rerun the code here so i've made some prepare ahead(can just ignore it)"
   ]
  },
  {
   "cell_type": "code",
   "execution_count": 3,
   "metadata": {},
   "outputs": [
    {
     "name": "stdout",
     "output_type": "stream",
     "text": [
      "   tweet_id identification\n",
      "0  0x28cc61           test\n",
      "1  0x29e452          train\n",
      "2  0x2b3819          train\n",
      "3  0x2db41f           test\n",
      "4  0x2a2acc          train\n",
      "   tweet_id       emotion\n",
      "0  0x3140b1       sadness\n",
      "1  0x368b73       disgust\n",
      "2  0x296183  anticipation\n",
      "3  0x2bd6e1           joy\n",
      "4  0x2ee1dd  anticipation\n",
      "         id   emotion\n",
      "0  0x2c7743  surprise\n",
      "1  0x2c1eed  surprise\n",
      "2  0x2826ea  surprise\n",
      "3  0x356d9a  surprise\n",
      "4  0x20fd95  surprise\n"
     ]
    }
   ],
   "source": [
    "### Begin Assignment Here\n",
    "import numpy as np \n",
    "import pandas as pd \n",
    "import os\n",
    "# Load and display the CSV files\n",
    "sampleSubmission = pd.read_csv(os.path.join(r\"C:\\Users\\HARRY JUAN\\Desktop\\DMLab2\\dm-2024-isa-5810-lab-2-homework\\sampleSubmission.csv\"))\n",
    "data_identification =  pd.read_csv(os.path.join(r\"C:\\Users\\HARRY JUAN\\Desktop\\DMLab2\\dm-2024-isa-5810-lab-2-homework\\data_identification.csv\"))\n",
    "emotion =  pd.read_csv(os.path.join(r\"C:\\Users\\HARRY JUAN\\Desktop\\DMLab2\\dm-2024-isa-5810-lab-2-homework\\emotion.csv\"))\n",
    "\n",
    "\n",
    "\n",
    "print(data_identification.head())\n",
    "print(emotion.head())\n",
    "print(sampleSubmission.head())"
   ]
  },
  {
   "cell_type": "code",
   "execution_count": 5,
   "metadata": {},
   "outputs": [
    {
     "name": "stdout",
     "output_type": "stream",
     "text": [
      "   tweet_id                                               text  \\\n",
      "0  0x376b20  People who post \"add me on #Snapchat\" must be ...   \n",
      "1  0x2d5350  @brianklaas As we see, Trump is dangerous to #...   \n",
      "2  0x28b412  Confident of your obedience, I write to you, k...   \n",
      "3  0x1cd5b0                Now ISSA is stalking Tasha 😂😂😂 <LH>   \n",
      "4  0x2de201  \"Trust is not the same as faith. A friend is s...   \n",
      "\n",
      "                        hashtags  \n",
      "0                     [Snapchat]  \n",
      "1  [freepress, TrumpLegacy, CNN]  \n",
      "2                   [bibleverse]  \n",
      "3                             []  \n",
      "4                             []  \n"
     ]
    }
   ],
   "source": [
    "import json\n",
    "\n",
    "# Define the file path\n",
    "file_path = r\"C:\\Users\\HARRY JUAN\\Desktop\\DMLab2\\dm-2024-isa-5810-lab-2-homework\\tweets_DM.json\"\n",
    "\n",
    "# Read the NDJSON file line by line\n",
    "tweets = []\n",
    "with open(file_path, 'r') as file:\n",
    "    for line in file:\n",
    "        # Parse each line as JSON\n",
    "        tweet_data = json.loads(line.strip())\n",
    "        # Extract relevant fields from the nested structure\n",
    "        tweet = tweet_data['_source']['tweet']\n",
    "        tweets.append({\n",
    "            'tweet_id': tweet['tweet_id'],\n",
    "            'text': tweet['text'],\n",
    "            'hashtags': tweet['hashtags']\n",
    "        })\n",
    "\n",
    "# Convert to a DataFrame\n",
    "tweets_df = pd.DataFrame(tweets)\n",
    "\n",
    "# Display the first few rows\n",
    "print(tweets_df.head())\n"
   ]
  },
  {
   "cell_type": "code",
   "execution_count": 7,
   "metadata": {},
   "outputs": [
    {
     "data": {
      "text/html": [
       "<div>\n",
       "<style scoped>\n",
       "    .dataframe tbody tr th:only-of-type {\n",
       "        vertical-align: middle;\n",
       "    }\n",
       "\n",
       "    .dataframe tbody tr th {\n",
       "        vertical-align: top;\n",
       "    }\n",
       "\n",
       "    .dataframe thead th {\n",
       "        text-align: right;\n",
       "    }\n",
       "</style>\n",
       "<table border=\"1\" class=\"dataframe\">\n",
       "  <thead>\n",
       "    <tr style=\"text-align: right;\">\n",
       "      <th></th>\n",
       "      <th>tweet_id</th>\n",
       "      <th>identification</th>\n",
       "      <th>emotion</th>\n",
       "    </tr>\n",
       "  </thead>\n",
       "  <tbody>\n",
       "    <tr>\n",
       "      <th>0</th>\n",
       "      <td>0x28cc61</td>\n",
       "      <td>test</td>\n",
       "      <td>NaN</td>\n",
       "    </tr>\n",
       "    <tr>\n",
       "      <th>1</th>\n",
       "      <td>0x29e452</td>\n",
       "      <td>train</td>\n",
       "      <td>joy</td>\n",
       "    </tr>\n",
       "    <tr>\n",
       "      <th>2</th>\n",
       "      <td>0x2b3819</td>\n",
       "      <td>train</td>\n",
       "      <td>joy</td>\n",
       "    </tr>\n",
       "    <tr>\n",
       "      <th>3</th>\n",
       "      <td>0x2db41f</td>\n",
       "      <td>test</td>\n",
       "      <td>NaN</td>\n",
       "    </tr>\n",
       "    <tr>\n",
       "      <th>4</th>\n",
       "      <td>0x2a2acc</td>\n",
       "      <td>train</td>\n",
       "      <td>trust</td>\n",
       "    </tr>\n",
       "    <tr>\n",
       "      <th>5</th>\n",
       "      <td>0x2a8830</td>\n",
       "      <td>train</td>\n",
       "      <td>joy</td>\n",
       "    </tr>\n",
       "    <tr>\n",
       "      <th>6</th>\n",
       "      <td>0x20b21d</td>\n",
       "      <td>train</td>\n",
       "      <td>anticipation</td>\n",
       "    </tr>\n",
       "    <tr>\n",
       "      <th>7</th>\n",
       "      <td>0x2452cf</td>\n",
       "      <td>train</td>\n",
       "      <td>anticipation</td>\n",
       "    </tr>\n",
       "    <tr>\n",
       "      <th>8</th>\n",
       "      <td>0x2d729d</td>\n",
       "      <td>train</td>\n",
       "      <td>anticipation</td>\n",
       "    </tr>\n",
       "    <tr>\n",
       "      <th>9</th>\n",
       "      <td>0x2ab56d</td>\n",
       "      <td>train</td>\n",
       "      <td>joy</td>\n",
       "    </tr>\n",
       "  </tbody>\n",
       "</table>\n",
       "</div>"
      ],
      "text/plain": [
       "   tweet_id identification       emotion\n",
       "0  0x28cc61           test           NaN\n",
       "1  0x29e452          train           joy\n",
       "2  0x2b3819          train           joy\n",
       "3  0x2db41f           test           NaN\n",
       "4  0x2a2acc          train         trust\n",
       "5  0x2a8830          train           joy\n",
       "6  0x20b21d          train  anticipation\n",
       "7  0x2452cf          train  anticipation\n",
       "8  0x2d729d          train  anticipation\n",
       "9  0x2ab56d          train           joy"
      ]
     },
     "execution_count": 7,
     "metadata": {},
     "output_type": "execute_result"
    }
   ],
   "source": [
    "# Merge the emotion labels with the dataset\n",
    "data = data_identification.merge(emotion, on='tweet_id', how='left')\n",
    "data.head(10)"
   ]
  },
  {
   "cell_type": "code",
   "execution_count": 8,
   "metadata": {},
   "outputs": [],
   "source": [
    "# Separate train and test data\n",
    "train_data = data[data['identification'] == 'train']\n",
    "test_data = data[data['identification'] == 'test']\n",
    "\n",
    "train_data = train_data.merge(tweets_df, on='tweet_id')\n",
    "test_data = test_data.merge(tweets_df, on='tweet_id')"
   ]
  },
  {
   "cell_type": "markdown",
   "metadata": {},
   "source": [
    "# Tried methods below"
   ]
  },
  {
   "cell_type": "markdown",
   "metadata": {},
   "source": [
    "* I've noticed that the sample is biased so i've tried the following sampling method , try to improve the biased problem so that we can get a more balanced data\n",
    "* it didn't imporove the result"
   ]
  },
  {
   "cell_type": "code",
   "execution_count": 9,
   "metadata": {},
   "outputs": [
    {
     "name": "stdout",
     "output_type": "stream",
     "text": [
      "Size of training set: 3302508\n",
      "Size of test set: 825628\n",
      "emotion\n",
      "anger           516017\n",
      "anticipation    516017\n",
      "disgust         516017\n",
      "fear            516017\n",
      "joy             516017\n",
      "sadness         516017\n",
      "surprise        516017\n",
      "trust           516017\n",
      "Name: count, dtype: int64\n",
      "         tweet_id identification emotion  \\\n",
      "574191   0x2881e5          train   anger   \n",
      "31103    0x289ced          train   anger   \n",
      "1393611  0x24dde9          train   anger   \n",
      "408983   0x253d4f          train   anger   \n",
      "228873   0x2a6e81          train   anger   \n",
      "612414   0x30a824          train   anger   \n",
      "1357740  0x2e87ca          train   anger   \n",
      "797313   0x372af9          train   anger   \n",
      "582336   0x31b7ad          train   anger   \n",
      "60935    0x227b65          train   anger   \n",
      "\n",
      "                                                      text  \\\n",
      "574191   Tell me why this girls 8 day postpartum body l...   \n",
      "31103    @gemboc1 Mine always gets in the way when I’m ...   \n",
      "1393611  Disappointed by the service from @JustEatUK & ...   \n",
      "408983   @Microsoft had the worst experience ever with ...   \n",
      "228873   @NedsAus seriously texting at 7am on cup day? ...   \n",
      "612414   Can't ride my bike so picking scabs off cuts i...   \n",
      "1357740  How <LH> it is to stay #silent when someone ex...   \n",
      "797313   Crushed that I missed a loved ones significant...   \n",
      "582336   🕘 19:00 13 Aug <LH> 🇺🇸USD = 9,43 🇪🇺EUR = 11,15...   \n",
      "60935    Should've went to Columbia for the solar eclip...   \n",
      "\n",
      "                    hashtags  \n",
      "574191                    []  \n",
      "31103                [mucky]  \n",
      "1393611                   []  \n",
      "408983           [windows10]  \n",
      "228873            [nothappy]  \n",
      "612414   [bored, bustedribs]  \n",
      "1357740    [silent, enraged]  \n",
      "797313                    []  \n",
      "582336                    []  \n",
      "60935                     []  \n"
     ]
    }
   ],
   "source": [
    "from sklearn.model_selection import train_test_split\n",
    "from sklearn.utils import resample\n",
    "import pandas as pd\n",
    "\n",
    "# Divide the data into different categories\n",
    "groups = [group for _, group in train_data.groupby('emotion')]\n",
    "\n",
    "# Upsample minority classes to match the size of the largest class\n",
    "max_size = max(group.shape[0] for group in groups)\n",
    "upsampled_groups = [resample(group, replace=True, n_samples=max_size, random_state=42) for group in groups]\n",
    "\n",
    "# Combine all the upsampled data\n",
    "train_data_balanced = pd.concat(upsampled_groups)\n",
    "\n",
    "# Split the upsampled dataset (only one split operation)\n",
    "X_train, X_test, y_train, y_test = train_test_split(\n",
    "    train_data_balanced['text'], \n",
    "    train_data_balanced['emotion'], \n",
    "    test_size=0.2, \n",
    "    random_state=42, \n",
    "    stratify=train_data_balanced['emotion']  # Ensure class proportions remain consistent\n",
    ")\n",
    "\n",
    "# Convert the data into list format\n",
    "X_train = X_train.tolist()\n",
    "X_test = X_test.tolist()\n",
    "y_train = y_train.tolist()\n",
    "y_test = y_test.tolist()\n",
    "\n",
    "# List the class names\n",
    "class_names = ['anger', 'anticipation', 'disgust', 'fear', 'joy', 'sadness', 'surprise', 'trust']\n",
    "\n",
    "# Output the dataset size and class distribution\n",
    "print('Size of training set: %s' % len(X_train))\n",
    "print('Size of test set: %s' % len(X_test))\n",
    "print(train_data_balanced['emotion'].value_counts())\n",
    "\n",
    "# Display the first 10 rows of the training data\n",
    "print(train_data_balanced.head(10))"
   ]
  },
  {
   "cell_type": "markdown",
   "metadata": {},
   "source": [
    "* the following part were runed on google(i don't have dGPU) so the outcome are showed by image(forgive me...)\n",
    "* i have tried to list the emoji and mannually match to the emotion(so we can replace the emoji directly with words description"
   ]
  },
  {
   "cell_type": "code",
   "execution_count": null,
   "metadata": {},
   "outputs": [],
   "source": [
    "import nltk\n",
    "import pandas as pd\n",
    "import re\n",
    "from nltk.corpus import stopwords\n",
    "from nltk.stem import WordNetLemmatizer\n",
    "import contractions\n",
    "\n",
    "# Initialize tools\n",
    "nltk.download('stopwords')\n",
    "nltk.download('wordnet')\n",
    "lemmatizer = WordNetLemmatizer()\n",
    "stop_words = set(stopwords.words('english'))\n",
    "\n",
    "# Emoji and emotion list\n",
    "emoji_sentiment_mapping = {\n",
    "    \"anger\": [\n",
    "        \"😡\", \"💢\", \"👿\", \"🔥\", \"😠\", \"🤬\", \"🙄\", \"😤\", \"😾\", \"💣\",\n",
    "        \"👊\", \"🖕\", \"👎\", \"🚫\", \"🛑\", \"⚡\", \"📛\", \"✋\", \"❌\", \"💔\",\n",
    "        \"🙅‍♀️\", \"🙅‍♂️\", \"🚷\", \"🙍\", \"🔪\", \"⛔\", \"😒\", \"😬\", \"💀\", \"🤯\",\n",
    "        \"💥\", \"🔞\", \"😕\", \"😑\", \"🤢\", \"🚨\", \"😮‍💨\", \"🪤\", \"🧨\"\n",
    "    ],\n",
    "    \"anticipation\": [\n",
    "        \"🤔\", \"🕒\", \"🎁\", \"🔜\", \"⏳\", \"👀\", \"🤞\", \"💭\", \"🛫\", \"🚀\",\n",
    "        \"🎂\", \"🛶\", \"🌅\", \"🏖️\", \"💌\", \"📅\", \"📆\", \"⏰\", \"🔔\", \"🎈\",\n",
    "        \"🌟\", \"🎉\", \"📬\", \"🎊\", \"📤\", \"🏆\", \"📊\", \"📈\", \"🌄\", \"🎨\",\n",
    "        \"🎋\", \"🌌\", \"🎐\", \"🌻\", \"🎵\", \"🎗️\", \"⛳\", \"🎠\", \"🌈\", \"🌞\",\n",
    "        \"🎭\", \"🎶\", \"🏅\"\n",
    "    ],\n",
    "    \"disgust\": [\n",
    "        \"🤮\", \"😒\", \"😑\", \"👎\", \"💩\", \"😠\", \"🙅‍♂️\", \"🙅‍♀️\", \"🚯\", \"😡\",\n",
    "        \"😾\", \"🤔\", \"😬\", \"💀\", \"💔\", \"😤\", \"😫\", \"😓\", \"🙁\", \"😿\",\n",
    "        \"💢\", \"😕\", \"🚷\", \"🛑\", \"🕳️\", \"🛇\", \"🔪\", \"🚱\", \"🤧\", \"😷\",\n",
    "        \"🤒\", \"⚔️\", \"🪓\", \"⚡\", \"🪤\"\n",
    "    ],\n",
    "    \"fear\": [\n",
    "        \"😱\", \"😨\", \"👻\", \"🕷️\", \"🐍\", \"🕸️\", \"🦇\", \"💀\", \"⚡\", \"🌩️\",\n",
    "        \"⚠️\", \"😬\", \"😟\", \"🙀\", \"😧\", \"🌪️\", \"👿\", \"🧟\", \"😰\", \"😵‍💫\",\n",
    "        \"👎\", \"🫣\", \"😣\", \"💔\", \"🔥\"\n",
    "    ],\n",
    "    \"joy\": [\n",
    "        \"😊\", \"😂\", \"😍\", \"🎉\", \"❤️\", \"😄\", \"😁\", \"😃\", \"🎊\", \"🥳\",\n",
    "        \"🌈\", \"😆\", \"🎈\", \"✨\", \"🎂\", \"🎶\", \"🌞\", \"🤗\", \"💕\", \"🎵\",\n",
    "        \"😋\", \"🌟\", \"🏆\", \"🎆\", \"🎨\", \"🌅\", \"🎍\", \"🎋\", \"🎇\", \"🍓\",\n",
    "        \"🏖️\", \"🌸\", \"🌺\", \"🌼\", \"🌻\", \"🎠\", \"🎐\", \"🎎\", \"💞\"\n",
    "    ],\n",
    "    \"sadness\": [\n",
    "        \"😢\", \"😭\", \"😔\", \"💔\", \"🌧️\", \"😞\", \"😟\", \"🙁\", \"😓\", \"😥\",\n",
    "        \"😿\", \"🙍\", \"💨\", \"😦\", \"☔\", \"🕳️\", \"😰\", \"😩\", \"💭\", \"😣\",\n",
    "        \"☹️\", \"🌫️\", \"🙍‍♀️\", \"🙍‍♂️\", \"🫠\"\n",
    "    ],\n",
    "    \"surprise\": [\n",
    "        \"😲\", \"🤯\", \"😮\", \"🎆\", \"🌟\", \"😯\", \"😵\", \"🤔\", \"✨\", \"💫\",\n",
    "        \"🎉\", \"🎊\", \"🎈\", \"🏆\", \"🌠\", \"🌅\", \"🎇\", \"📊\", \"📈\", \"🎂\",\n",
    "        \"🎐\", \"💥\", \"💣\", \"🚀\", \"🌈\"\n",
    "    ],\n",
    "    \"trust\": [\n",
    "        \"🤝\", \"👍\", \"❤️\", \"🛡️\", \"🙏\", \"😌\", \"💖\", \"🤗\", \"💕\", \"💞\",\n",
    "        \"🎁\", \"🎀\", \"🌟\", \"💌\", \"☀️\", \"🌞\", \"🌈\", \"🎉\", \"🌺\", \"🌸\",\n",
    "        \"🏅\", \"🏆\"\n",
    "    ]\n",
    "}\n",
    "\n",
    "# Function to replace emojis with emotion labels\n",
    "def replace_emoji_with_emotion(text):\n",
    "    \"\"\"\n",
    "    Replace emojis in `emoji_sentiment_mapping` with their corresponding emotion labels.\n",
    "    :param text: Original text\n",
    "    :return: Text with emojis replaced by emotion labels\n",
    "    \"\"\"\n",
    "    result = []\n",
    "    for char in text:\n",
    "        # Check if the emoji exists in the mapping\n",
    "        emotion_found = None\n",
    "        for emotion, emoji_scores in emoji_sentiment_mapping.items():\n",
    "            if char in emoji_scores:  # If emoji is in the mapping\n",
    "                emotion_found = emotion\n",
    "                break  # Exit the inner loop after finding\n",
    "        if emotion_found:\n",
    "            result.append(emotion_found)  # Replace emoji with emotion label\n",
    "        else:\n",
    "            result.append(char)  # Keep the character unchanged\n",
    "    return ''.join(result)\n",
    "\n",
    "# Text cleaning function\n",
    "def clean_text(text):\n",
    "    text = replace_emoji_with_emotion(text)  # Replace emojis with emotion labels\n",
    "    text = contractions.fix(text)  # Expand contractions\n",
    "    text = re.sub(r'@\\w+', '<user>', text)  # Replace usernames\n",
    "    text = re.sub(r'http\\S+|www\\.\\S+', '<url>', text)  # Replace URLs\n",
    "    text = re.sub(r'#(\\w+)', lambda m: ' '.join(re.findall(r'[A-Z]?[a-z]+|[A-Z]+(?![a-z])', m.group(1))), text)  # Split hashtags\n",
    "    text = re.sub(r'<LH>', '', text)  # Remove special markers\n",
    "    text = re.sub(r'\\b(19|20)\\d{2}\\b', '<YEAR>', text)  # Replace years\n",
    "    text = re.sub(r'\\b\\d+\\b', '<NUM>', text)  # Replace numbers\n",
    "    text = re.sub(r'[^\\w\\s!?]', ' ', text)  # Keep only letters, numbers, spaces, exclamation marks, and question marks\n",
    "    text = re.sub(r'\\s+', ' ', text).strip().lower()  # Handle extra spaces and convert to lowercase\n",
    "    return ' '.join([lemmatizer.lemmatize(word, pos='v') for word in text.split() if word not in stop_words])  # Remove stopwords and lemmatize words\n",
    "\n",
    "# Function to calculate emoji sentiment scores\n",
    "def calculate_emoji_sentiment(text):\n",
    "    emotion_totals = {emotion: 0 for emotion in emoji_sentiment_mapping.keys()}\n",
    "    for char in text:\n",
    "        for emotion, emojis in emoji_sentiment_mapping.items():\n",
    "            if char in emojis:\n",
    "                emotion_totals[emotion] += 1  # Increment sentiment score\n",
    "    return emotion_totals\n",
    "\n",
    "# Data preprocessing function\n",
    "def preprocess_dataset(dataset, text_column):\n",
    "    \"\"\"\n",
    "    Clean text and add sentiment score columns.\n",
    "    :param dataset: The dataset to process\n",
    "    :param text_column: Name of the column containing original text\n",
    "    :return: Updated dataset\n",
    "    \"\"\"\n",
    "    dataset['clean_text'] = dataset[text_column].apply(clean_text)  # Clean text\n",
    "    dataset['emoji_sentiment_scores'] = dataset[text_column].apply(calculate_emoji_sentiment)  # Calculate emoji sentiment scores\n",
    "\n",
    "    # Split sentiment scores into separate columns\n",
    "    for emotion in emoji_sentiment_mapping.keys():\n",
    "        dataset[f'emoji_{emotion}_score'] = dataset['emoji_sentiment_scores'].apply(lambda x: x[emotion])\n",
    "\n",
    "    # Remove temporary sentiment score column\n",
    "    dataset.drop(columns=['emoji_sentiment_scores'], inplace=True)\n",
    "    return dataset\n",
    "\n",
    "# Preprocess datasets\n",
    "train_data = preprocess_dataset(train_data, 'text')  \n",
    "test_data = preprocess_dataset(test_data, 'text')    \n",
    "# View updated data\n",
    "print(train_data[['text', 'clean_text']].head())\n"
   ]
  },
  {
   "attachments": {
    "2aecd824-7f2a-4450-ae2b-b383f07c3a77.png": {
     "image/png": "[encoded data removed]"
    }
   },
   "cell_type": "markdown",
   "metadata": {},
   "source": [
    "![image.png](attachment:2aecd824-7f2a-4450-ae2b-b383f07c3a77.png)"
   ]
  },
  {
   "cell_type": "markdown",
   "metadata": {},
   "source": [
    "* then it's the embedding part (i've tried roberta and bert on google), here i just present one of them.<br>\n",
    "* here i just tried to use pre-trained language model found here:https://huggingface.co/cardiffnlp/twitter-roberta-base\n",
    "* the main idea is embed the text and emotion together, trying to get the contextual meaning of them"
   ]
  },
  {
   "cell_type": "code",
   "execution_count": null,
   "metadata": {},
   "outputs": [],
   "source": [
    "import torch\n",
    "import numpy as np\n",
    "import pandas as pd\n",
    "from transformers import AutoTokenizer, AutoModel\n",
    "from tqdm import tqdm\n",
    "import gc\n",
    "from sklearn.preprocessing import LabelEncoder\n",
    "\n",
    "# Set parameters\n",
    "MODEL_NAME = \"cardiffnlp/twitter-roberta-base\"\n",
    "MAX_LEN = 70\n",
    "BATCH_SIZE = 3500\n",
    "DEVICE = torch.device(\"cuda\" if torch.cuda.is_available() else \"cpu\")\n",
    "\n",
    "# Load Tokenizer and Model\n",
    "tokenizer = AutoTokenizer.from_pretrained(MODEL_NAME, use_fast=True)\n",
    "model = AutoModel.from_pretrained(MODEL_NAME).to(DEVICE).eval()\n",
    "\n",
    "# Initialize label encoder\n",
    "label_encoder = LabelEncoder()\n",
    "train_data['emotion_encoded'] = label_encoder.fit_transform(train_data['emotion'])\n",
    "\n",
    "# Text embedding function\n",
    "def generate_embeddings(data, text_column, context_column=None):\n",
    "\n",
    "    embeddings = np.zeros((len(data), model.config.hidden_size), dtype=np.float32)  # Pre-allocate space\n",
    "    for start_idx in tqdm(range(0, len(data), BATCH_SIZE), desc=\"Generating embeddings\", unit=\"batch\"):\n",
    "        end_idx = start_idx + BATCH_SIZE\n",
    "        if context_column:\n",
    "            # Combine main text with context text\n",
    "            combined_texts = (\n",
    "                data[text_column].iloc[start_idx:end_idx] + \" [SEP] \" + data[context_column].iloc[start_idx:end_idx]\n",
    "            ).tolist()\n",
    "        else:\n",
    "            combined_texts = data[text_column].iloc[start_idx:end_idx].tolist()\n",
    "\n",
    "        # Tokenize text\n",
    "        encodings = tokenizer(\n",
    "            combined_texts,\n",
    "            padding=True,\n",
    "            truncation=True,\n",
    "            max_length=MAX_LEN,\n",
    "            return_tensors=\"pt\"\n",
    "        ).to(DEVICE)\n",
    "\n",
    "        # Model inference\n",
    "        with torch.no_grad():\n",
    "            outputs = model(**encodings)\n",
    "            batch_embeddings = outputs.last_hidden_state[:, 0, :].cpu().numpy()  # Use [CLS] token embeddings\n",
    "\n",
    "        # Store embeddings in pre-allocated matrix\n",
    "        embeddings[start_idx:end_idx] = batch_embeddings\n",
    "\n",
    "        # Clear memory\n",
    "        del encodings, outputs, batch_embeddings\n",
    "        torch.cuda.empty_cache()\n",
    "        gc.collect()\n",
    "\n",
    "    return embeddings\n",
    "\n",
    "# Generate combined embeddings for train_data (text + emotion)\n",
    "print(\"Generating embeddings for train_data (text + emotion)...\")\n",
    "train_embeddings = generate_embeddings(train_data, text_column='text', context_column='emotion')\n",
    "train_data['combined_embeddings'] = list(train_embeddings)\n",
    "\n",
    "# Generate embeddings for test_data (text only)\n",
    "print(\"Generating embeddings for test_data (text only)...\")\n",
    "test_embeddings = generate_embeddings(test_data, text_column='text')\n",
    "test_data['text_embeddings'] = list(test_embeddings)\n",
    "\n",
    "# Compute average embeddings for each emotion (reference vectors)\n",
    "emotion_labels = train_data['emotion'].unique()\n",
    "emotion_to_vector = {}\n",
    "\n",
    "for emotion in emotion_labels:\n",
    "    emotion_vectors = np.array(train_data.loc[train_data['emotion'] == emotion, 'combined_embeddings'].tolist())\n",
    "    mean_vector = emotion_vectors.mean(axis=0)  # Compute the mean embedding\n",
    "    emotion_to_vector[emotion] = mean_vector\n"
   ]
  },
  {
   "attachments": {
    "6094cba4-7bc7-4cfb-a48a-3d34b9bfa2e9.png": {
     "image/png": "[encoded data removed]"
    }
   },
   "cell_type": "markdown",
   "metadata": {},
   "source": [
    "![image.png](attachment:6094cba4-7bc7-4cfb-a48a-3d34b9bfa2e9.png)"
   ]
  },
  {
   "cell_type": "markdown",
   "metadata": {},
   "source": [
    "* then i construct the model below, to classify emotions based on pre-computed embeddings"
   ]
  },
  {
   "cell_type": "code",
   "execution_count": null,
   "metadata": {},
   "outputs": [],
   "source": [
    "import numpy as np\n",
    "import pandas as pd\n",
    "from sklearn.preprocessing import LabelEncoder\n",
    "from sklearn.model_selection import train_test_split\n",
    "from sklearn.utils.class_weight import compute_class_weight\n",
    "from sklearn.metrics import classification_report, confusion_matrix\n",
    "from tensorflow.keras.models import Sequential\n",
    "from tensorflow.keras.layers import Dense, Dropout, BatchNormalization\n",
    "from tensorflow.keras.callbacks import EarlyStopping, ReduceLROnPlateau\n",
    "from nlpaug.augmenter.word import SynonymAug\n",
    "import tensorflow as tf\n",
    "import seaborn as sns\n",
    "import matplotlib.pyplot as plt\n",
    "\n",
    "# Ensure GPU is available\n",
    "if not tf.config.list_physical_devices('GPU'):\n",
    "    print(\"Warning: No GPU found. Running on CPU.\")\n",
    "\n",
    "# Load the data\n",
    "X_train = np.array(train_data['combined_embeddings'].tolist())\n",
    "y_train = train_data['emotion']\n",
    "\n",
    "# Label encoding\n",
    "label_encoder = LabelEncoder()\n",
    "y_train_encoded = label_encoder.fit_transform(y_train)  # Convert emotion labels into integer values\n",
    "\n",
    "# Augment minority class data\n",
    "augmenter = SynonymAug(aug_src='wordnet')\n",
    "\n",
    "\n",
    "def augment_data(X, y, target_class, num_augmentations):\n",
    "    \"\"\"Perform data augmentation for the target class.\"\"\"\n",
    "    target_indices = np.where(y == target_class)[0]\n",
    "    augmented_embeddings = []\n",
    "    augmented_labels = []\n",
    "    for idx in target_indices:\n",
    "        for _ in range(num_augmentations):\n",
    "            augmented_embeddings.append(X[idx])  # Directly copy the embedding vector\n",
    "            augmented_labels.append(target_class)\n",
    "    return np.vstack(augmented_embeddings), np.array(augmented_labels)\n",
    "\n",
    "\n",
    "# Augment minority classes (e.g., anger, disgust)\n",
    "classes_to_augment = [label_encoder.transform(['anger'])[0], label_encoder.transform(['disgust'])[0]]\n",
    "for cls in classes_to_augment:\n",
    "    augmented_X, augmented_y = augment_data(X_train, y_train_encoded, cls, num_augmentations=3)\n",
    "    X_train = np.vstack((X_train, augmented_X))\n",
    "    y_train_encoded = np.hstack((y_train_encoded, augmented_y))\n",
    "\n",
    "# Compute class weights\n",
    "class_weights = compute_class_weight(\n",
    "    class_weight='balanced',\n",
    "    classes=np.unique(y_train_encoded),\n",
    "    y=y_train_encoded\n",
    ")\n",
    "class_weights = dict(enumerate(class_weights))\n",
    "print(\"\\nClass Weights:\", class_weights)\n",
    "\n",
    "# Split the dataset\n",
    "X_train_split, X_val, y_train_split, y_val = train_test_split(\n",
    "    X_train, y_train_encoded, test_size=0.2, random_state=42\n",
    ")\n",
    "\n",
    "# Build an optimized neural network model\n",
    "model = Sequential([\n",
    "    Dense(512, activation='relu', input_shape=(X_train.shape[1],)),\n",
    "    BatchNormalization(),\n",
    "    Dropout(0.4),\n",
    "\n",
    "    Dense(256, activation='relu'),\n",
    "    BatchNormalization(),\n",
    "    Dropout(0.4),\n",
    "\n",
    "    Dense(128, activation='relu'),\n",
    "    BatchNormalization(),\n",
    "    Dropout(0.3),\n",
    "\n",
    "    Dense(len(label_encoder.classes_), activation='softmax')\n",
    "])\n",
    "\n",
    "model.compile(optimizer=tf.keras.optimizers.Adam(learning_rate=1e-3),\n",
    "              loss='sparse_categorical_crossentropy',\n",
    "              metrics=['accuracy'])\n",
    "\n",
    "# Set callback functions\n",
    "early_stopping = EarlyStopping(monitor='val_loss', patience=3, restore_best_weights=True, verbose=1)\n",
    "reduce_lr = ReduceLROnPlateau(monitor='val_loss', factor=0.2, patience=2, min_lr=1e-5, verbose=1)\n",
    "\n",
    "# Train the model\n",
    "history = model.fit(\n",
    "    X_train_split, y_train_split,\n",
    "    validation_data=(X_val, y_val),\n",
    "    epochs=6,  # Increase the number of training epochs\n",
    "    batch_size=128,\n",
    "    class_weight=class_weights,  # Include class weights\n",
    "    callbacks=[early_stopping, reduce_lr],\n",
    "    verbose=1\n",
    ")\n",
    "\n",
    "# Evaluate model performance\n",
    "y_val_pred_probs = model.predict(X_val)\n",
    "y_val_pred_encoded = np.argmax(y_val_pred_probs, axis=1)\n",
    "\n",
    "print(\"\\nValidation Classification Report:\")\n",
    "print(classification_report(y_val, y_val_pred_encoded, target_names=label_encoder.classes_))\n",
    "#the subsequent outcome(using the model to predict emotion) is not so good as i submitted to kaggle, so i dont put it here."
   ]
  },
  {
   "cell_type": "markdown",
   "metadata": {},
   "source": [
    "### Thought and some reflection：<br>\n",
    "1. I think i didn't fine-tune the model to get a better embedding result even it's orginally pre-trained on tweeter content. Besides, embedding takes lots of time in my environment, so i need to store it to make the progress smoother without embedding again when used next time.<br>\n",
    "2. I encounter problems like too focus on cleaning the text at the start, expecting to clean it to the best, but the result isn't good, sometimes in embedding(guessing), machine still need certain words to understand the content, but if i clean it as stopword(for example), then even using a better embeddign model, it might not capture the meaning of the sentence.<br>\n",
    "3. why LTSM performs better in my case?<br>\n",
    "I think it's more efficient for me, the dataset may be large enough to allow the model to learn task-specific patterns effectively but Roberta wasn't fine tuend and get restricted to this task,i guess there might be sequential dependencies that are not fully captured by pre-trained embeddings so that we have such result.<br>\n",
    "4. while trying to classify emotion using the embedding from roberta, i use a DNN Classifier instead of other classifier we've learned in the class, so i still can't say that such embedding is not good at all, i have no compariing basis right here, but i believe that the devil lies in the embedding and preprocessing part.<br>\n",
    "I really learned a lot in this Lab,found so much thing that can be improved with all that experience."
   ]
  }
 ],
 "metadata": {
  "kaggle": {
   "accelerator": "none",
   "dataSources": [
    {
     "databundleVersionId": 9912598,
     "sourceId": 87232,
     "sourceType": "competition"
    },
    {
     "datasetId": 6165426,
     "sourceId": 10014243,
     "sourceType": "datasetVersion"
    }
   ],
   "isGpuEnabled": false,
   "isInternetEnabled": true,
   "language": "python",
   "sourceType": "notebook"
  },
  "kernelspec": {
   "display_name": "Python 3 (ipykernel)",
   "language": "python",
   "name": "python3"
  },
  "language_info": {
   "codemirror_mode": {
    "name": "ipython",
    "version": 3
   },
   "file_extension": ".py",
   "mimetype": "text/x-python",
   "name": "python",
   "nbconvert_exporter": "python",
   "pygments_lexer": "ipython3",
   "version": "3.11.7"
  }
 },
 "nbformat": 4,
 "nbformat_minor": 4
}
